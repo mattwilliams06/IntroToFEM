{
 "cells": [
  {
   "cell_type": "code",
   "execution_count": 8,
   "metadata": {},
   "outputs": [],
   "source": [
    "import numpy as np\n",
    "import matplotlib.pyplot as plt\n",
    "from matplotlib import cm\n",
    "%config InlineBackend.figure_format='svg'"
   ]
  },
  {
   "cell_type": "code",
   "execution_count": 2,
   "metadata": {},
   "outputs": [],
   "source": [
    "p0 = [0.0,0.0]\n",
    "p1 = [1.0,0.0]\n",
    "p2 = [1.0,1.0]\n",
    "p3 = [0.0,1.0]\n",
    "\n",
    "def N(x,y,p,px,py):\n",
    "    x0 = px[0]\n",
    "    y0 = py[1]\n",
    "    x_ = p[0]\n",
    "    y_ = p[1]\n",
    "    Nx = (x-x0)/(x_-x0)\n",
    "    Ny = (y-y0)/(y_-y0)\n",
    "    return Nx*Ny"
   ]
  },
  {
   "cell_type": "code",
   "execution_count": 4,
   "metadata": {},
   "outputs": [],
   "source": [
    "x = np.linspace(0,1)\n",
    "y = np.linspace(0,1)\n",
    "X, Y = np.meshgrid(x,y)\n",
    "tf = N(X,Y,p3,p2,p0)"
   ]
  },
  {
   "cell_type": "code",
   "execution_count": 10,
   "metadata": {},
   "outputs": [],
   "source": [
    "%matplotlib qt\n",
    "fig,ax = plt.subplots(subplot_kw={'projection':'3d'})\n",
    "ax.plot_surface(X,Y,tf,cmap='viridis')\n",
    "ax.set_xlabel('X')\n",
    "ax.set_ylabel('Y')\n",
    "plt.show()"
   ]
  },
  {
   "cell_type": "code",
   "execution_count": null,
   "metadata": {},
   "outputs": [],
   "source": []
  }
 ],
 "metadata": {
  "interpreter": {
   "hash": "26f955762a8812f9202aaecf9e047024c6cb0ef1a958d10c7c25c02d4b3b7674"
  },
  "kernelspec": {
   "display_name": "Python 3.8.6 ('phys')",
   "language": "python",
   "name": "python3"
  },
  "language_info": {
   "codemirror_mode": {
    "name": "ipython",
    "version": 3
   },
   "file_extension": ".py",
   "mimetype": "text/x-python",
   "name": "python",
   "nbconvert_exporter": "python",
   "pygments_lexer": "ipython3",
   "version": "3.8.6"
  },
  "orig_nbformat": 4
 },
 "nbformat": 4,
 "nbformat_minor": 2
}
