{
 "cells": [
  {
   "cell_type": "code",
   "execution_count": 2,
   "metadata": {},
   "outputs": [],
   "source": [
    "import numpy as np\n",
    "import csv"
   ]
  },
  {
   "cell_type": "code",
   "execution_count": 10,
   "metadata": {},
   "outputs": [],
   "source": [
    "def CreateMesh1D(xstart,xend,n_elements):\n",
    "    dx = (xend-xstart)/n_elements\n",
    "    nodes = np.zeros((n_elements+1,2))\n",
    "    node_locations = np.arange(xstart,xend+dx,dx)\n",
    "    global_nodes = np.arange(len(node_locations),dtype='int8')\n",
    "    nodes[:,0] = global_nodes\n",
    "    nodes[:,1] = node_locations\n",
    "    return nodes\n",
    "\n",
    "def write_mesh(array,name):\n",
    "    with open(name,'w',newline='') as f:\n",
    "        mywriter = csv.writer(f,delimiter=' ')\n",
    "        mywriter.writerows(array)\n",
    "    return None\n"
   ]
  },
  {
   "cell_type": "code",
   "execution_count": 12,
   "metadata": {},
   "outputs": [],
   "source": [
    "mesh = CreateMesh1D(0,48,5)\n",
    "write_mesh(mesh,'csv_test.csv')"
   ]
  },
  {
   "cell_type": "code",
   "execution_count": null,
   "metadata": {},
   "outputs": [],
   "source": []
  }
 ],
 "metadata": {
  "interpreter": {
   "hash": "23e3c629ff7c4f5acd87756b81bee0c5d080490dc425c4b0a5efe7be00abfb73"
  },
  "kernelspec": {
   "display_name": "Python 3.10.2 ('sci')",
   "language": "python",
   "name": "python3"
  },
  "language_info": {
   "codemirror_mode": {
    "name": "ipython",
    "version": 3
   },
   "file_extension": ".py",
   "mimetype": "text/x-python",
   "name": "python",
   "nbconvert_exporter": "python",
   "pygments_lexer": "ipython3",
   "version": "3.10.2"
  },
  "orig_nbformat": 4
 },
 "nbformat": 4,
 "nbformat_minor": 2
}
