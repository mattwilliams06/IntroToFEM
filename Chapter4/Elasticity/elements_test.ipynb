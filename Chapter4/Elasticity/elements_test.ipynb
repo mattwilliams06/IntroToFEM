{
 "cells": [
  {
   "cell_type": "code",
   "execution_count": 8,
   "metadata": {},
   "outputs": [],
   "source": [
    "import numpy as np\n",
    "import pandas as pd\n",
    "import os\n",
    "import csv"
   ]
  },
  {
   "cell_type": "code",
   "execution_count": 9,
   "metadata": {},
   "outputs": [],
   "source": [
    "def GenerateElements(file):\n",
    "    df = pd.read_csv(file)\n",
    "    nelem = len(df)\n",
    "    elements = np.zeros((nelem,3),dtype='int8')\n",
    "    elem1 = np.arange(0,nelem)\n",
    "    elements[:,0] = elem1\n",
    "    elements[:,1] = elem1\n",
    "    elem2 = np.arange(1,nelem+1)\n",
    "    elements[:,2] = elem2\n",
    "    return elements\n",
    "\n",
    "def write_elements(array):\n",
    "    # path = '/Users/mattjwilliams/Documents/PythonStuff/FEM/GangLi/Chapter4/ProgramFiles'\n",
    "    # fname = os.path.join(path,name)\n",
    "    fname = 'elements_test.csv'\n",
    "    with open(fname,'w',newline='') as f:\n",
    "        mywriter = csv.writer(f,delimiter=' ')\n",
    "        mywriter.writerows(array)\n",
    "    return None"
   ]
  },
  {
   "cell_type": "code",
   "execution_count": 10,
   "metadata": {},
   "outputs": [],
   "source": [
    "file = './csv_test.csv'\n",
    "array = GenerateElements(file)\n",
    "write_elements(array)"
   ]
  },
  {
   "cell_type": "code",
   "execution_count": null,
   "metadata": {},
   "outputs": [],
   "source": []
  }
 ],
 "metadata": {
  "interpreter": {
   "hash": "23e3c629ff7c4f5acd87756b81bee0c5d080490dc425c4b0a5efe7be00abfb73"
  },
  "kernelspec": {
   "display_name": "Python 3.10.2 ('sci')",
   "language": "python",
   "name": "python3"
  },
  "language_info": {
   "codemirror_mode": {
    "name": "ipython",
    "version": 3
   },
   "file_extension": ".py",
   "mimetype": "text/x-python",
   "name": "python",
   "nbconvert_exporter": "python",
   "pygments_lexer": "ipython3",
   "version": "3.10.2"
  },
  "orig_nbformat": 4
 },
 "nbformat": 4,
 "nbformat_minor": 2
}
