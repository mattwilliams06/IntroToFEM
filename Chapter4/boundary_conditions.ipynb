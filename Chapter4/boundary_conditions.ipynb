{
 "cells": [
  {
   "cell_type": "code",
   "execution_count": 20,
   "metadata": {},
   "outputs": [
    {
     "name": "stdout",
     "output_type": "stream",
     "text": [
      "   element  node1  node2\n",
      "0        0      0      1\n",
      "1        1      1      2\n",
      "2        2      2      3\n",
      "3        3      3      4\n",
      "4        4      4      5\n"
     ]
    }
   ],
   "source": [
    "import numpy as np\n",
    "import csv\n",
    "import os\n",
    "import pandas as pd\n",
    "\n",
    "program_files = '/Users/mattjwilliams/Documents/PythonStuff/FEM/GangLi/Chapter4/ProgramFiles'\n",
    "fname = 'elements.csv'\n",
    "df = pd.read_csv(os.path.join(program_files,fname),header=None,names=['element','node1','node2'],delimiter=' ')\n",
    "nelem = len(df['elements'])\n",
    "nnodes = nelem + 1\n",
    "nodes = np.arange(nnodes)"
   ]
  },
  {
   "cell_type": "code",
   "execution_count": 21,
   "metadata": {},
   "outputs": [
    {
     "data": {
      "text/plain": [
       "0"
      ]
     },
     "execution_count": 21,
     "metadata": {},
     "output_type": "execute_result"
    }
   ],
   "source": [
    "df.iloc[0,1]"
   ]
  },
  {
   "cell_type": "code",
   "execution_count": null,
   "metadata": {},
   "outputs": [],
   "source": []
  }
 ],
 "metadata": {
  "interpreter": {
   "hash": "23e3c629ff7c4f5acd87756b81bee0c5d080490dc425c4b0a5efe7be00abfb73"
  },
  "kernelspec": {
   "display_name": "Python 3.10.2 ('sci')",
   "language": "python",
   "name": "python3"
  },
  "language_info": {
   "codemirror_mode": {
    "name": "ipython",
    "version": 3
   },
   "file_extension": ".py",
   "mimetype": "text/x-python",
   "name": "python",
   "nbconvert_exporter": "python",
   "pygments_lexer": "ipython3",
   "version": "3.10.2"
  },
  "orig_nbformat": 4
 },
 "nbformat": 4,
 "nbformat_minor": 2
}
