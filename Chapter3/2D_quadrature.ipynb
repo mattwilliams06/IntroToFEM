{
 "cells": [
  {
   "cell_type": "code",
   "execution_count": 1,
   "metadata": {},
   "outputs": [],
   "source": [
    "import numpy as np\n",
    "import matplotlib.pyplot as plt\n",
    "%config InlineBackend.figure_format='svg'"
   ]
  },
  {
   "cell_type": "code",
   "execution_count": 2,
   "metadata": {},
   "outputs": [],
   "source": [
    "def dblquad(x,y,f):\n",
    "    X,Y = np.meshgrid(x,y)\n",
    "    Z = f(X,Y)\n",
    "    int1 = np.trapz(Z,x,axis=1)\n",
    "    int2 = np.trapz(int1,y)\n",
    "    return int2"
   ]
  },
  {
   "cell_type": "code",
   "execution_count": 5,
   "metadata": {},
   "outputs": [
    {
     "data": {
      "text/plain": [
       "-0.6668054977092878"
      ]
     },
     "execution_count": 5,
     "metadata": {},
     "output_type": "execute_result"
    }
   ],
   "source": [
    "x = np.linspace(0,1)\n",
    "y = np.linspace(0,2)\n",
    "f = lambda x,y: 1-x**2-y\n",
    "dblquad(x,y,f)"
   ]
  },
  {
   "cell_type": "code",
   "execution_count": null,
   "metadata": {},
   "outputs": [],
   "source": []
  }
 ],
 "metadata": {
  "interpreter": {
   "hash": "23e3c629ff7c4f5acd87756b81bee0c5d080490dc425c4b0a5efe7be00abfb73"
  },
  "kernelspec": {
   "display_name": "Python 3.10.2 ('sci')",
   "language": "python",
   "name": "python3"
  },
  "language_info": {
   "codemirror_mode": {
    "name": "ipython",
    "version": 3
   },
   "file_extension": ".py",
   "mimetype": "text/x-python",
   "name": "python",
   "nbconvert_exporter": "python",
   "pygments_lexer": "ipython3",
   "version": "3.10.2"
  },
  "orig_nbformat": 4
 },
 "nbformat": 4,
 "nbformat_minor": 2
}
